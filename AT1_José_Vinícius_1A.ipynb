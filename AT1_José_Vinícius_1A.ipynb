{
  "nbformat": 4,
  "nbformat_minor": 0,
  "metadata": {
    "colab": {
      "provenance": [],
      "authorship_tag": "ABX9TyPXWeLA4bI2te4meLbWkTf8",
      "include_colab_link": true
    },
    "kernelspec": {
      "name": "python3",
      "display_name": "Python 3"
    },
    "language_info": {
      "name": "python"
    }
  },
  "cells": [
    {
      "cell_type": "markdown",
      "metadata": {
        "id": "view-in-github",
        "colab_type": "text"
      },
      "source": [
        "<a href=\"https://colab.research.google.com/github/jviniciusct/Python/blob/main/AT1_Jos%C3%A9_Vin%C3%ADcius_1A.ipynb\" target=\"_parent\"><img src=\"https://colab.research.google.com/assets/colab-badge.svg\" alt=\"Open In Colab\"/></a>"
      ]
    },
    {
      "cell_type": "code",
      "source": [
        "# 1. Faça um CÓDIGO que mostre a mensagem \"Olá ETE CICERO DIAS!\" na tela.\n",
        "\n",
        "print('Olá ETE CICERO DIAS!')"
      ],
      "metadata": {
        "colab": {
          "base_uri": "https://localhost:8080/"
        },
        "id": "rZZp1ysJ1dkz",
        "outputId": "aab78772-c06d-4074-8de3-f3cae4f00415"
      },
      "execution_count": null,
      "outputs": [
        {
          "output_type": "stream",
          "name": "stdout",
          "text": [
            "Olá ETE CICERO DIAS!\n"
          ]
        }
      ]
    },
    {
      "cell_type": "code",
      "source": [
        "# 2. Faça um CÓDIGO que peça um número e então mostre a mensagem O número informado foi [número].\n",
        "\n",
        "numero = int(input('Digite um número: '))\n",
        "print(f'O número informado foi: {numero}')"
      ],
      "metadata": {
        "colab": {
          "base_uri": "https://localhost:8080/"
        },
        "id": "jjsWbmHw1j1A",
        "outputId": "ce4ac57d-e397-47df-f85b-73f6431bf3ff"
      },
      "execution_count": null,
      "outputs": [
        {
          "output_type": "stream",
          "name": "stdout",
          "text": [
            "Digite um número: 5\n",
            "O número informado foi 5\n"
          ]
        }
      ]
    },
    {
      "cell_type": "code",
      "source": [
        "# 3. Faça um CÓDIGO que peça dois números e imprima a soma.\n",
        "\n",
        "numero1 = float(input('Digite um número: '))\n",
        "numero2 = float(input('Digite um número: '))\n",
        "print(f'A soma dos dois numeros é: {numero1+numero2}')"
      ],
      "metadata": {
        "colab": {
          "base_uri": "https://localhost:8080/"
        },
        "id": "ZtXB6wwN2Tb5",
        "outputId": "6c128deb-a4ac-4aa0-9f4d-6f84c2ccf5c9"
      },
      "execution_count": null,
      "outputs": [
        {
          "output_type": "stream",
          "name": "stdout",
          "text": [
            "Digite um número: 2.6\n",
            "Digite um número: 5.7\n",
            "A soma dos dois numeros é: 8.3\n"
          ]
        }
      ]
    },
    {
      "cell_type": "code",
      "source": [
        "# 4. Faça um CÓDIGO que peça as 4 notas bimestrais e mostre a média final.\n",
        "\n",
        "nota1 = float(input('Digite a primeira nota: '))\n",
        "nota2 = float(input('Digite a segunda nota: '))\n",
        "nota3 = float(input('Digite a terceira nota: '))\n",
        "nota4 = float(input('Digite a quarta nota: '))\n",
        "print(f'A média final é: {(nota1+nota2+nota3+nota4)/4}')"
      ],
      "metadata": {
        "colab": {
          "base_uri": "https://localhost:8080/"
        },
        "id": "OWZHbXs12spo",
        "outputId": "23869714-5d7a-467d-a2fe-cf93af8f2800"
      },
      "execution_count": null,
      "outputs": [
        {
          "output_type": "stream",
          "name": "stdout",
          "text": [
            "Digite a primeira nota: 7\n",
            "Digite a segunda nota: 7\n",
            "Digite a terceira nota: 7\n",
            "Digite a quarta nota: 7\n",
            "A média final é: 7.0\n"
          ]
        }
      ]
    },
    {
      "cell_type": "code",
      "source": [
        "# 5. Faça um CÓDIGO que converta metros para centímetros.\n",
        "\n",
        "metros = float(input('Digite o valor em metros: '))\n",
        "print(f'Esse valor equivale a {metros*100} centimetros')"
      ],
      "metadata": {
        "colab": {
          "base_uri": "https://localhost:8080/"
        },
        "id": "X61vgcDf3nHg",
        "outputId": "9028904a-72b0-41cd-d1fc-40c4540fb601"
      },
      "execution_count": null,
      "outputs": [
        {
          "output_type": "stream",
          "name": "stdout",
          "text": [
            "Digite o valor em metros: 2\n",
            "Esse valor equivale a 200.0 centimetros\n"
          ]
        }
      ]
    },
    {
      "cell_type": "code",
      "source": [
        "# 6. Faça um CÓDIGO que peça o raio de um círculo, calcule e mostre sua área.\n",
        "\n",
        "raio = float(input('Digite o raio do círculo: '))\n",
        "area = raio*raio*3.14\n",
        "print(f'A área do círculo é igual a: {round(area)}')"
      ],
      "metadata": {
        "id": "gX8kGAQW5UgR",
        "colab": {
          "base_uri": "https://localhost:8080/"
        },
        "outputId": "a32910e7-4b2e-4753-9c7f-fd6133406bec"
      },
      "execution_count": 10,
      "outputs": [
        {
          "output_type": "stream",
          "name": "stdout",
          "text": [
            "Digite o raio do círculo: 3.1\n",
            "A área do círculo é igual a: 30\n"
          ]
        }
      ]
    },
    {
      "cell_type": "code",
      "source": [
        "# 7. Faça um CÓDIGO que calcule a área de um quadrado, em seguida mostre o dobro desta área para o usuário.\n",
        "\n",
        "lado = float(input('Digite o valor do lado do quadrado: '))\n",
        "print(f'A área do quadrado é igua a: {lado*lado*2}')\n"
      ],
      "metadata": {
        "colab": {
          "base_uri": "https://localhost:8080/"
        },
        "id": "PXSnigPTw7Ir",
        "outputId": "14a1360e-8150-4929-a0f5-871ae73459d2"
      },
      "execution_count": 12,
      "outputs": [
        {
          "output_type": "stream",
          "name": "stdout",
          "text": [
            "Digite o valor do lado do quadrado: 3.6\n",
            "A área do quadrado é igua a: 25.92\n"
          ]
        }
      ]
    },
    {
      "cell_type": "code",
      "source": [
        "# 8. Faça um CÓDIGO que pergunte quanto você ganha por hora e o número de horas trabalhadas no mês. Calcule e mostre o total do seu salário no referido mês.\n",
        "\n",
        "salario = float(input('Digite quanto você ganha por hora: '))\n",
        "salario = salario*8*22\n",
        "print(f'Seu salário será: R$ {round(salario)}')   #CONSIDEREI 8H DE TRABALHO POR DIA E 22 DIAS DE TRABALHO DURANTE MÊS."
      ],
      "metadata": {
        "colab": {
          "base_uri": "https://localhost:8080/"
        },
        "id": "9z3FFNIjxaRq",
        "outputId": "97c719a1-1290-4ab5-bdfe-f079d91ca996"
      },
      "execution_count": 21,
      "outputs": [
        {
          "output_type": "stream",
          "name": "stdout",
          "text": [
            "Digite quanto você ganha por hora: 23\n",
            "Seu salário será: R$ 4048\n"
          ]
        }
      ]
    },
    {
      "cell_type": "code",
      "source": [
        "# 9. Faça um CÓDIGO que peça um valor e mostre na tela se o valor é positivo ou negativo.\n",
        "\n",
        "num = float(input('Digite um número para saber se ele é negativo ou positivo: '))\n",
        "if num < 0:\n",
        "  print(f'\\nO número {num} é negativo!')\n",
        "else:\n",
        "  print(f'\\nO número {num} é positivo!')"
      ],
      "metadata": {
        "colab": {
          "base_uri": "https://localhost:8080/"
        },
        "id": "FRHJ1LQkyv-9",
        "outputId": "73623d88-152f-4599-f159-81a7af772349"
      },
      "execution_count": 24,
      "outputs": [
        {
          "output_type": "stream",
          "name": "stdout",
          "text": [
            "Digite um número para saber se ele é negativo ou positivo: 32\n",
            "\n",
            "O número 32.0 é positivo!\n"
          ]
        }
      ]
    },
    {
      "cell_type": "code",
      "source": [
        "# 10. Faça um CÓDIGO que verifique se uma letra digitada é \"F\" ou \"M\". Conforme a letra escrever: F - Feminino, M - Masculino, Sexo Inválido.\n",
        "\n",
        "sexo = str(input('Digite \"M\" para Masculino e \"F\" para feminino: '))\n",
        "if sexo == 'M':\n",
        "  print('\\nM - Masculino.')\n",
        "elif sexo == 'F':\n",
        "  print('\\nF - Feminino.')\n",
        "else:\n",
        "  print('\\nErro')"
      ],
      "metadata": {
        "colab": {
          "base_uri": "https://localhost:8080/"
        },
        "id": "4rbTiQWMz7gw",
        "outputId": "81ffa300-65a4-4fd5-d5cc-c42713fde46f"
      },
      "execution_count": 41,
      "outputs": [
        {
          "output_type": "stream",
          "name": "stdout",
          "text": [
            "Digite \"M\" para Masculino e \"F\" para feminino: M\n",
            "\n",
            "M - Masculino.\n"
          ]
        }
      ]
    }
  ]
}