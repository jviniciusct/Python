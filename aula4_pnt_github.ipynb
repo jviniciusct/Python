{
  "nbformat": 4,
  "nbformat_minor": 0,
  "metadata": {
    "colab": {
      "provenance": []
    },
    "kernelspec": {
      "name": "python3",
      "display_name": "Python 3"
    },
    "language_info": {
      "name": "python"
    }
  },
  "cells": [
    {
      "cell_type": "code",
      "execution_count": 8,
      "metadata": {
        "colab": {
          "base_uri": "https://localhost:8080/"
        },
        "id": "YL4ibFlvfbY4",
        "outputId": "501a5f6f-75c4-4b96-a88d-f0f7a06c3b7a"
      },
      "outputs": [
        {
          "output_type": "stream",
          "name": "stdout",
          "text": [
            "<class 'bool'>\n"
          ]
        }
      ],
      "source": [
        "# ETE CÍCERO DIAS\n",
        "# DOCENTE: CLOVES\n",
        "# ESTUDANTE: JOSÉ VINÍCIUS TRINDADE\n",
        "# print('José Vinícius')\n",
        "# Tipos primitivos de Dados\n",
        "# Para comentar um bloco utilizamos: '''\n",
        "\n",
        "j = True\n",
        "print(type(j))"
      ]
    }
  ]
}