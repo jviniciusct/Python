{
  "nbformat": 4,
  "nbformat_minor": 0,
  "metadata": {
    "colab": {
      "provenance": [],
      "authorship_tag": "ABX9TyNYcb80sh7yICLqSthZk2is",
      "include_colab_link": true
    },
    "kernelspec": {
      "name": "python3",
      "display_name": "Python 3"
    },
    "language_info": {
      "name": "python"
    }
  },
  "cells": [
    {
      "cell_type": "markdown",
      "metadata": {
        "id": "view-in-github",
        "colab_type": "text"
      },
      "source": [
        "<a href=\"https://colab.research.google.com/github/jviniciusct/Python/blob/main/aula4_pnt_github.ipynb\" target=\"_parent\"><img src=\"https://colab.research.google.com/assets/colab-badge.svg\" alt=\"Open In Colab\"/></a>"
      ]
    },
    {
      "cell_type": "code",
      "execution_count": 1,
      "metadata": {
        "colab": {
          "base_uri": "https://localhost:8080/"
        },
        "id": "YL4ibFlvfbY4",
        "outputId": "d9ece174-e1bf-40b1-cbc7-d1375cb39bd7"
      },
      "outputs": [
        {
          "output_type": "stream",
          "name": "stdout",
          "text": [
            "<class 'str'>\n"
          ]
        }
      ],
      "source": [
        "# ETE CÍCERO DIAS\n",
        "# DOCENTE: CLOVES\n",
        "# ESTUDANTE: JOSÉ VINÍCIUS TRINDADE\n",
        "# print('José Vinícius')\n",
        "# Tipos primitivos de Dados\n",
        "# Para comentar um bloco utilizamos: '''\n",
        "\n",
        "d = 'Dado'\n",
        "print(type(d))"
      ]
    }
  ]
}