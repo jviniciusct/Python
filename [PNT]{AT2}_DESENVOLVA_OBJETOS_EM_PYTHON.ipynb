{
  "nbformat": 4,
  "nbformat_minor": 0,
  "metadata": {
    "colab": {
      "provenance": [],
      "authorship_tag": "ABX9TyMcaCc8pg31+OYKqWqYRd6U",
      "include_colab_link": true
    },
    "kernelspec": {
      "name": "python3",
      "display_name": "Python 3"
    },
    "language_info": {
      "name": "python"
    }
  },
  "cells": [
    {
      "cell_type": "markdown",
      "metadata": {
        "id": "view-in-github",
        "colab_type": "text"
      },
      "source": [
        "<a href=\"https://colab.research.google.com/github/jviniciusct/Python/blob/main/%5BPNT%5D%7BAT2%7D_DESENVOLVA_OBJETOS_EM_PYTHON.ipynb\" target=\"_parent\"><img src=\"https://colab.research.google.com/assets/colab-badge.svg\" alt=\"Open In Colab\"/></a>"
      ]
    },
    {
      "cell_type": "code",
      "execution_count": 1,
      "metadata": {
        "id": "YcGOkEcE8HD6"
      },
      "outputs": [],
      "source": [
        "# OBJETO 'PESSOA'\n",
        "class Pessoa:\n",
        "    def __init__(self, nome, sexo, cpf, cidade, email):\n",
        "        self.nome = nome\n",
        "        self.sexo = sexo\n",
        "        self.cpf = cpf\n",
        "        self.cidade = cidade\n",
        "        self.email = email"
      ]
    },
    {
      "cell_type": "code",
      "source": [
        "# OBJETO 'LOCALIZAÇÃO'\n",
        "class Localizacao:\n",
        "  def __init__(self, latitude, longitude):\n",
        "    self.latitude = latitude\n",
        "    self.longitude = longitude"
      ],
      "metadata": {
        "id": "1YF5pgHC9B7t"
      },
      "execution_count": null,
      "outputs": []
    },
    {
      "cell_type": "code",
      "source": [
        "# OBJETO 'IDIOMA'\n",
        "class Idioma:\n",
        "  def __init__(self, portugues, ingles, espanhol):\n",
        "    self.portugues = portugues\n",
        "    self.ingles = ingles\n",
        "    self.espanhol = espanhol"
      ],
      "metadata": {
        "id": "Dt2NhZ_i9gO8"
      },
      "execution_count": null,
      "outputs": []
    },
    {
      "cell_type": "code",
      "source": [
        "# OBJETO 'COMERCIANTE'\n",
        "class Comerciante:\n",
        "  def __init__(self, endereco_estabelecimento, nome_estabelecimento, tipo_estabelecimento):\n",
        "    self.endereco_estabelecimento = endereco_estabelecimento\n",
        "    self.nome_estabelecimento = nome_estabelecimento\n",
        "    self.tipo_estabelecimento = tipo_estabelecimento"
      ],
      "metadata": {
        "id": "-4WT1_um-Oor"
      },
      "execution_count": null,
      "outputs": []
    },
    {
      "cell_type": "code",
      "source": [
        "# OBJETO 'PONTO_TURISTICO'\n",
        "class pontoTuristico:\n",
        "  def __init__(self, tipo_pontoTuristico, localizacao_pontoTuristico, nome_pontoTuristico):\n",
        "    self.tipo_pontoTuristico = tipo_pontoTuristico\n",
        "    self.localizacao_pontoTuristico = localizacao_pontoTuristico\n",
        "    self.nome_pontoTuristico = nome_pontoTuristico\n"
      ],
      "metadata": {
        "id": "qBC7Co4bAICP"
      },
      "execution_count": null,
      "outputs": []
    }
  ]
}